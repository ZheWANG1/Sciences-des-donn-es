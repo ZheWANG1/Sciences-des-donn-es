{
 "cells": [
  {
   "cell_type": "markdown",
   "metadata": {},
   "source": [
    "IA & Data science (LU3IN0226) -- 2021-2022\n",
    "--------\n",
    "*&copy; Equipe pédagogique: Vincent Guigue, Christophe Marsala, Olivier Schwander.*"
   ]
  },
  {
   "cell_type": "markdown",
   "metadata": {},
   "source": [
    "<font size=\"+1\" color=\"RED\"><b>[Q]</b></font> <font size=\"+1\"><b>Indiquer dans la boîte ci-dessous vos noms et prénoms :</b></font>"
   ]
  },
  {
   "cell_type": "markdown",
   "metadata": {},
   "source": [
    "WANG Zhe, LIN Charles"
   ]
  },
  {
   "cell_type": "markdown",
   "metadata": {},
   "source": [
    "Ce projet peut être fait (c'est même recommandé) en binôme. Le nom de chaque membre du binôme doit être indiqué, et un seul rendu sur un des deux comptes Moodle doit être fait.\n",
    "\n",
    "Les groupes de plus de 2 personnes ne sont pas autorisés."
   ]
  },
  {
   "cell_type": "markdown",
   "metadata": {},
   "source": [
    "<font color=\"RED\" size=\"+1\"><b>[Q]</b></font> **Renommer ce fichier ipython**\n",
    "\n",
    "Tout en haut de cette page, cliquer sur <tt>projet-1</tt> et rajouter à la suite de <tt>projet-1</tt> les noms des membres du binômes séparés par un tiret.\n",
    "\n",
    "<font color=\"RED\" size=\"+1\">IMPORTANT: soumission de votre fichier final</font>\n",
    "\n",
    "**Nom à donner au notebook** : *projet-1-Nom1_Nom2.ipynb* \n",
    "- *Nom1* et *Nom2* : noms des membres du binôme\n",
    "\n",
    "**Le compte-rendu doit être rendu sur la page Moodle.**"
   ]
  },
  {
   "cell_type": "markdown",
   "metadata": {},
   "source": [
    "# Projet 1 - mars 2022\n",
    "\n",
    "\n",
    "<font size=\"+1\" color=\"RED\"><b>Date de rendu : vendredi 25 mars, 18h au plus tard</b></font>\n",
    "<br />\n",
    "\n",
    "\n",
    "Vous devez compléter ce notebook en rajoutant vos expérimentations avec vos algorithmes d'apprentissage sur:\n",
    "- les données Bases_IADS : cela correspond à un problème de classification binaire\n",
    "- les données Bases_IADS_multiclasses : cela correspond à un problème de classification multiclasses\n",
    "\n",
    "Très important : les fichiers de données doivent être placés de façon à respecter la structure de fichiers suivantes:\n",
    "\n",
    "          -- ce_notebook.ipynb\n",
    "          -- Bases_IADS/ \n",
    "              -- README.txt\n",
    "              -- train.csv\n",
    "              -- test.csv\n",
    "              -- eval.csv\n",
    "              -- names.csv\n",
    "          -- Bases_IADS_multiclasses/\n",
    "              -- README.txt\n",
    "              -- train_multi.csv\n",
    "              -- test_multi.csv\n",
    "              -- eval_multi.csv\n",
    "              -- names_multi.csv\n",
    "\n",
    "Dans le notebook, le chargement des fichiers de données considèrera donc cette arborescence.\n",
    "\n",
    "\n",
    "Les fichiers de chaque répertoire correspondent à:\n",
    "- fichier README.txt : donne des explications sur le contenu du répertoire\n",
    "- fichier train*.csv : base d'apprentissage à utiliser pour construire le classfieur\n",
    "- fichier test*.csv : base de test pour évaluer vous même le classifieur construit. Les exemples de ce fichier NE DOIVENT PAS être utilisés pour l'apprentissage du classifieur.\n",
    "- fichier eval*.csv : fichier d'évaluation du classifieur (voir ci-dessous).\n",
    "\n",
    "## Travail à faire\n",
    "\n",
    "Pour chaque ensemble de données:\n",
    "- les 2 algorithmes d'apprentissage knn et perceptron doivent être expérimentés et comparés (ATTENTION: on ne veut que des algorithmes que vous avez implémentés vous-même dans cette UE).\n",
    "- des résultats d'expérimentations pourront être : comparaison des taux de bonne classification apprentissage / test (avec validation croisée), visualisation, etc.\n",
    "- de plus, un fichier `eval.csv` est fourni. Ce fichier contient des descriptions associées à un \"faux\" label. Dans votre compte-rendu, vous devez fournir un fichier CSV qui donne, pour chaque exemple du fichier `eval.csv`la classe trouvée par votre meilleur classifieur. Ainsi, le fichier CSV à rendre doit comporter 2 colonnes et autant de lignes que d'exemples (une ligne par exemple du fichier eval):<br>\n",
    "            IDENTIFIANT;CLASSE_TROUVEE_POUR_CET_EXEMPLE\n",
    "            ...\n",
    "Le résultat de classification vous sera donné en retour (nous connaissons la vraie classe des exemples de ce fichier...).\n",
    "\n",
    "Vos **expérimentations doivent être expliquées** (utilisez des boîtes Markdown pour saisir vos explications):\n",
    "- une argumentation du type *\"pourquoi vous avez fait cette expérimentation\"* doit être fournie;\n",
    "- une analyse succincte du résultat fourni doit être aussi donnée.\n",
    "\n",
    "\n",
    "Par exemple (indicatif): choix de $k$ pour le knn:\n",
    "- argumentation : pour décider quelle peut être la valeur de $k$ optimale, on décide de tester plusieurs valeurs différentes et de comparer les taux de bonne classification sur la base de test obtenus.\n",
    "- analyse du résultat: on remarque que la valeur $k$ suivante fournie le meilleur résultat.\n",
    "\n",
    "\n",
    "\n",
    "## Travail à rendre\n",
    "Ce qui doit être rendu : un fichier archive (`.tar`, `.tgz`, ou `.zip` uniquement)\n",
    "- ce notebook, dans lequel vous avez reporté toutes les fonctions que vous utilisez : ce notebook doit pouvoir être exécuté sans autre apport (pensez à vous en assurer avant de le rendre). Les fichiers de données ne doivent pas être inclus dans votre archive !\n",
    "- un fichier CSV dont le nom est de la forme: *projet-1-Nom1_Nom2.csv* (sur le modèle du nom du notebook) qui donne la classe de chaque exemple du fichier `eval.csv` trouvée par votre classifieur.\n",
    "\n",
    "\n",
    "**Remarque**: en considérant que les algorithmes knn et perceptron ont été réalisés lors des séances de TME 1 à 6, le travail demandé pour ce projet correspond à, au plus, une séance complète de TME."
   ]
  },
  {
   "cell_type": "markdown",
   "metadata": {},
   "source": [
    "<font size=\"+3\" color=\"RED\">Classification binaire</front>"
   ]
  },
  {
   "cell_type": "code",
   "execution_count": 1,
   "metadata": {},
   "outputs": [],
   "source": [
    "import numpy as np\n",
    "import pandas as pd\n",
    "from datetime import datetime as dt\n",
    "import matplotlib.pyplot as plt\n",
    "import copy"
   ]
  },
  {
   "cell_type": "code",
   "execution_count": 2,
   "metadata": {},
   "outputs": [],
   "source": [
    "class Classifier:\n",
    "    \"\"\" Classe (abstraite) pour représenter un classifieur\n",
    "        Attention: cette classe est ne doit pas être instanciée.\n",
    "    \"\"\" \n",
    "    def __init__(self, input_dimension):\n",
    "        \"\"\" Constructeur de Classifier\n",
    "            Argument:\n",
    "                - intput_dimension (int) : dimension de la description des exemples\n",
    "            Hypothèse : input_dimension > 0\n",
    "        \"\"\"\n",
    "        raise NotImplementedError(\"Please Implement this method\")\n",
    "        \n",
    "    def train(self, desc_set, label_set):\n",
    "        \"\"\" Permet d'entrainer le modele sur l'ensemble donné\n",
    "            desc_set: ndarray avec des descriptions\n",
    "            label_set: ndarray avec les labels correspondants\n",
    "            Hypothèse: desc_set et label_set ont le même nombre de lignes\n",
    "        \"\"\"        \n",
    "        raise NotImplementedError(\"Please Implement this method\")\n",
    "    \n",
    "    def score(self,x):\n",
    "        \"\"\" rend le score de prédiction sur x (valeur réelle)\n",
    "            x: une description\n",
    "        \"\"\"\n",
    "        raise NotImplementedError(\"Please Implement this method\")\n",
    "    \n",
    "    def predict(self, x):\n",
    "        \"\"\" rend la prediction sur x (soit -1 ou soit +1)\n",
    "            x: une description\n",
    "        \"\"\"\n",
    "        raise NotImplementedError(\"Please Implement this method\")\n",
    "\n",
    "    def accuracy(self, desc_set, label_set):\n",
    "        \"\"\" Permet de calculer la qualité du système sur un dataset donné\n",
    "            desc_set: ndarray avec des descriptions\n",
    "            label_set: ndarray avec les labels correspondants\n",
    "            Hypothèse: desc_set et label_set ont le même nombre de lignes\n",
    "        \"\"\"\n",
    "        sum = 0\n",
    "        for i in range(label_set.size):\n",
    "            if(self.predict(desc_set[i]) == label_set[i]):\n",
    "                sum += 1\n",
    "        return sum / label_set.size"
   ]
  },
  {
   "cell_type": "markdown",
   "metadata": {},
   "source": [
    "## Lecture et conversion des données"
   ]
  },
  {
   "cell_type": "code",
   "execution_count": 3,
   "metadata": {},
   "outputs": [],
   "source": [
    "names = pd.read_csv(\"Bases_IADS/names.csv\", header=None, sep = \";\")\n",
    "\n",
    "train = pd.read_csv(\"Bases_IADS/train.csv\", sep = \";\", header=None)\n",
    "test = pd.read_csv(\"Bases_IADS/test.csv\", sep = \";\", header=None)\n",
    "eval = pd.read_csv(\"Bases_IADS/eval.csv\", sep = \";\", header=None)\n",
    "\n",
    "train = train.set_axis(np.array(names)[0], axis=1, inplace=False)\n",
    "test = test.set_axis(np.array(names)[0], axis=1, inplace=False)\n",
    "eval = eval.set_axis(np.array(names)[0], axis=1, inplace=False)\n",
    "\n",
    "train_desc = np.array(train.iloc[:, 1:-1], dtype=\"float\")\n",
    "train_label = np.array(train['label'])\n",
    "\n",
    "test_desc = np.array(test.iloc[:, 1:-1], dtype=\"float\")\n",
    "test_label = np.array(test['label'])\n",
    "\n",
    "eval_desc = np.array(eval.iloc[:, 1:-1], dtype=\"float\")\n",
    "eval_label = np.array(eval['label'])"
   ]
  },
  {
   "cell_type": "markdown",
   "metadata": {},
   "source": [
    "# Test sur le classifieur KNN\n",
    "\n",
    "Du fait d'un nombre important de point nous avons ajouter les méthodes nearest_matrix et setK au ClassifierKNN, car pour chaque nouveau k un nouveau tableau des plus proches voisin au points x est calculé.\n",
    "\n",
    "Ainsi dans nearest_matrix, nous calculons le tableau des plus proches voisin pour chacun des points.\n",
    "\n",
    "Et la méthode setK elle servira a mettre a jour le nombre de plus proche voisin a prendre en compte.\n",
    "\n",
    "Ensuite nous avons modifier les méthodes predict, score et accuracy.\n",
    "\n",
    "accuracy va d'abord lancer un appel a nearest_matrix si la méthode est appelé pour la premiere fois, et il passera non plus la une donnée de desc_set a predict mais son index, qui servira a faire le lien avec le table des plus proches voisin n_m. Donc predict et score prendront un index en paramètre.\n",
    "\n",
    "score récupèrera maintenant le tableau triéer des plus proches voisin directement dans n_m.\n",
    "\n",
    "**n_m[index du point de test_desc] -> tableau triéer des plus proches voisin aux point de train_desc**"
   ]
  },
  {
   "cell_type": "code",
   "execution_count": 4,
   "metadata": {},
   "outputs": [],
   "source": [
    "class ClassifierKNN(Classifier):\n",
    "    \"\"\" Classe pour représenter un classifieur par K plus proches voisins.\n",
    "        Cette classe hérite de la classe Classifier\n",
    "    \"\"\"\n",
    "    def __init__(self, input_dimension, k):\n",
    "        self.input_dimension = input_dimension\n",
    "        self.k = k\n",
    "        self.n_m = None\n",
    "        \n",
    "    def score(self, index):\n",
    "        positiv = 0\n",
    "        for k in range(self.k):\n",
    "            if self.label_set[self.n_m[index][k]] == 1:\n",
    "                positiv += 1\n",
    "        return 2*(positiv/self.k - 0.5)\n",
    "    \n",
    "    def predict(self, index):\n",
    "        return 1 if (self.score(index) > 0) else -1\n",
    "        \n",
    "    def train(self, desc_set, label_set):\n",
    "        self.desc_set = desc_set\n",
    "        self.label_set = label_set\n",
    "        \n",
    "    def nearest_matrix(self, desc_set, label_set):\n",
    "        l_size = label_set.size\n",
    "        n_m = []\n",
    "        \n",
    "        for i in range(l_size):\n",
    "            tab = [0 for x in range(self.label_set.size)]\n",
    "            for j in range(self.label_set.size):\n",
    "                tab[j] = np.linalg.norm(desc_set[i] - self.desc_set[j])\n",
    "            n_m.append(np.argsort(tab, axis=0))\n",
    "        self.n_m = n_m\n",
    "    \n",
    "    def setK(self, k):\n",
    "        self.k = k\n",
    "        \n",
    "    def accuracy(self, desc_set, label_set):\n",
    "        if(self.n_m == None):\n",
    "            self.nearest_matrix(desc_set, label_set) \n",
    "        sum = 0\n",
    "        for index in range(label_set.size):\n",
    "            if(self.predict(index) == label_set[index]):\n",
    "                sum += 1\n",
    "        return sum / label_set.size"
   ]
  },
  {
   "cell_type": "code",
   "execution_count": 5,
   "metadata": {},
   "outputs": [
    {
     "name": "stdout",
     "output_type": "stream",
     "text": [
      "0.948\n"
     ]
    },
    {
     "data": {
      "image/png": "[encoded data removed]",
      "text/plain": [
       "<Figure size 432x288 with 1 Axes>"
      ]
     },
     "metadata": {
      "needs_background": "light"
     },
     "output_type": "display_data"
    }
   ],
   "source": [
    "k_init = 1\n",
    "k_final = 200\n",
    "pas = 1\n",
    "\n",
    "knn = ClassifierKNN(len(train_desc[0]),1)\n",
    "knn.train(train_desc, train_label)\n",
    "\n",
    "perfs, k_list = [], []\n",
    "for k in range(k_init, k_final, pas):\n",
    "    knn.setK(k)\n",
    "    perfs.append(knn.accuracy(test_desc, test_label))\n",
    "    k_list.append(k)\n",
    "\n",
    "plt.plot(k_list, perfs)\n",
    "\n",
    "print(np.max(perfs))"
   ]
  },
  {
   "cell_type": "markdown",
   "metadata": {},
   "source": [
    "On observe que la meilleur performances trouvée est de **0.948** pour **k = 3**."
   ]
  },
  {
   "cell_type": "markdown",
   "metadata": {},
   "source": [
    "# Test sur le perceptron"
   ]
  },
  {
   "cell_type": "code",
   "execution_count": 6,
   "metadata": {},
   "outputs": [],
   "source": [
    "class ClassifierPerceptron(Classifier):\n",
    "    \"\"\" Perceptron de Rosenblatt\n",
    "    \"\"\"\n",
    "    def __init__(self, input_dimension, learning_rate, init=0):\n",
    "        \"\"\" Constructeur de Classifier\n",
    "            Argument:\n",
    "                - input_dimension (int) : dimension de la description des exemples (>0)\n",
    "                - learning_rate : epsilon\n",
    "                - init est le mode d'initialisation de w: \n",
    "                    - si 0 (par défaut): initialisation à 0 de w,\n",
    "                    - si 1 : initialisation par tirage aléatoire de valeurs petites\n",
    "        \"\"\"\n",
    "        self.input_dimension = input_dimension\n",
    "        self.learning_rate = learning_rate\n",
    "        if init == 0:\n",
    "            self.w = np.zeros(input_dimension)\n",
    "        else:\n",
    "            v = np.random.uniform(0,1,input_dimension)\n",
    "            self.w = (2*v-1)*0.001\n",
    "\n",
    "        \n",
    "    def train_step(self, desc_set, label_set):\n",
    "        \"\"\" Réalise une unique itération sur tous les exemples du dataset\n",
    "            donné en prenant les exemples aléatoirement.\n",
    "            Arguments:\n",
    "                - desc_set: ndarray avec des descriptions\n",
    "                - label_set: ndarray avec les labels correspondants\n",
    "        \"\"\"\n",
    "        order = np.arange(label_set.size)\n",
    "        np.random.shuffle(order)\n",
    "        \n",
    "        for i in order:\n",
    "            if self.predict(desc_set[i]) != label_set[i]:\n",
    "                self.w += label_set[i]*desc_set[i]*self.learning_rate\n",
    "     \n",
    "    def train(self, desc_set, label_set, niter_max=100, seuil=0.001):\n",
    "        \"\"\" Apprentissage itératif du perceptron sur le dataset donné.\n",
    "            Arguments:\n",
    "                - desc_set: ndarray avec des descriptions\n",
    "                - label_set: ndarray avec les labels correspondants\n",
    "                - niter_max (par défaut: 100) : nombre d'itérations maximale\n",
    "                - seuil (par défaut: 0.01) : seuil de convergence\n",
    "            Retour: la fonction rend une liste\n",
    "                - liste des valeurs de norme de différences\n",
    "        \"\"\"\n",
    "        list = []\n",
    "        for i in range(niter_max):\n",
    "            oldw = self.w.copy()\n",
    "            self.train_step(desc_set, label_set)\n",
    "            norm = np.linalg.norm(self.w - oldw)\n",
    "            list.append(norm)\n",
    "            if norm < seuil:\n",
    "                break\n",
    "        return list\n",
    "    \n",
    "    def score(self,x):\n",
    "        \"\"\" rend le score de prédiction sur x (valeur réelle)\n",
    "            x: une description\n",
    "        \"\"\"\n",
    "        return np.dot(self.w, x)\n",
    "    \n",
    "    def predict(self, x):\n",
    "        \"\"\" rend la prediction sur x (soit -1 ou soit +1)\n",
    "            x: une description\n",
    "        \"\"\"\n",
    "        return 1 if np.sign(self.score(x)) >= 0 else -1"
   ]
  },
  {
   "cell_type": "code",
   "execution_count": 7,
   "metadata": {},
   "outputs": [],
   "source": [
    "# réduction à 50 dimensions\n",
    "ndim = 100\n",
    "lam, V = np.linalg.eigh(train_desc.T @ train_desc)\n",
    "lammax = np.argsort(lam)\n",
    "Vmax = V[:, [lammax[-i] for i in range(1, ndim+1)]]\n",
    "\n",
    "train_desc_r = train_desc @ Vmax\n",
    "test_desc_r = test_desc @ Vmax"
   ]
  },
  {
   "cell_type": "code",
   "execution_count": 8,
   "metadata": {},
   "outputs": [
    {
     "data": {
      "text/plain": [
       "0.867"
      ]
     },
     "execution_count": 8,
     "metadata": {},
     "output_type": "execute_result"
    }
   ],
   "source": [
    "perceptron = ClassifierPerceptron(len(train_desc[0]), 1e-3)\n",
    "perceptron.train(train_desc, train_label, niter_max = 1000)\n",
    "perceptron.accuracy(test_desc, test_label)"
   ]
  },
  {
   "cell_type": "markdown",
   "metadata": {},
   "source": [
    "# CSV\n",
    "\n",
    "#### Nous avons obtenu un meilleur résultat avec le classifieur KNN pour la classifcation binaire avec k=3"
   ]
  },
  {
   "cell_type": "code",
   "execution_count": 10,
   "metadata": {},
   "outputs": [],
   "source": [
    "knn.setK(3)\n",
    "\n",
    "for index in range(eval_label.size):\n",
    "    eval_label[index] = knn.predict(index)\n",
    "    \n",
    "df = pd.DataFrame(eval['ident']).join(pd.DataFrame(eval_label))\n",
    "df = df.rename(columns={\"ident\":'IDENTIFIANT', 0:\"CLASSE_TROUVEE_POUR_CET_EXEMPLE\"})\n",
    "df.to_csv('./projet-1-WANG_LIN_BINAIRE.csv', sep=\";\", index=False)"
   ]
  },
  {
   "cell_type": "markdown",
   "metadata": {},
   "source": [
    "<font size=\"+3\" color=\"RED\">Classification multiclasse</front>"
   ]
  },
  {
   "cell_type": "markdown",
   "metadata": {},
   "source": [
    "# Lecture et conversion des données"
   ]
  },
  {
   "cell_type": "code",
   "execution_count": 11,
   "metadata": {},
   "outputs": [],
   "source": [
    "names = pd.read_csv(\"Bases_IADS_multiclasses/names_multi.csv\", header=None, sep = \";\")\n",
    "\n",
    "train = pd.read_csv(\"Bases_IADS_multiclasses/train_multi.csv\", sep = \";\", header=None)\n",
    "test = pd.read_csv(\"Bases_IADS_multiclasses/test_multi.csv\", sep = \";\", header=None)\n",
    "eval = pd.read_csv(\"Bases_IADS_multiclasses/eval_multi.csv\", sep = \";\", header=None)\n",
    "\n",
    "train = train.set_axis(np.array(names)[0], axis=1, inplace=False)\n",
    "test = test.set_axis(np.array(names)[0], axis=1, inplace=False)\n",
    "eval = eval.set_axis(np.array(names)[0], axis=1, inplace=False)\n",
    "\n",
    "train_desc = np.array(train.iloc[:, 1:-1])\n",
    "train_label = np.array(train['label'])\n",
    "\n",
    "test_desc = np.array(test.iloc[:, 1:-1])\n",
    "test_label = np.array(test['label'])\n",
    "\n",
    "eval_desc = np.array(eval.iloc[:, 1:-1])\n",
    "eval_label = np.array(eval['label'])"
   ]
  },
  {
   "cell_type": "markdown",
   "metadata": {},
   "source": [
    "# Test le KNN\n",
    "\n",
    "Pour les même souci que nous avons rencontrer avec le KNN sur la classification binaire, nous devons modifier ClassifierMultiOAA_KNN pour l'adapter au fonctionnement du KNN pour faciliter les test.\n",
    "\n",
    "- ajout de la méthode setK\n",
    "- passage en argument de l'index des point au lieu de les passer directement"
   ]
  },
  {
   "cell_type": "code",
   "execution_count": 12,
   "metadata": {},
   "outputs": [],
   "source": [
    "class ClassifierMultiOAA_KNN(Classifier):\n",
    "    def  __init__(self , classif) :\n",
    "        self.classif = classif\n",
    "        self.classifs = []\n",
    "\n",
    "    def train(self, desc_set , label_set) : \n",
    "        self.labels = np.unique(label_set)\n",
    "        \n",
    "        for lab in self.labels : \n",
    "            new_classif = copy.deepcopy(self.classif)\n",
    "            new_label_set = np.where(label_set == lab, 1 ,-1)\n",
    "            new_classif.train(desc_set, new_label_set)\n",
    "            self.classifs.append(new_classif)\n",
    "            \n",
    "    def score(self, index):\n",
    "        return [c.score(index) for c in self.classifs]\n",
    "    \n",
    "    def predict(self , index):\n",
    "        return self.labels[np.argmax(self.score(index))]\n",
    "    \n",
    "    def setK(self, k):\n",
    "        for c in self.classifs:\n",
    "            c.setK(k)\n",
    "    \n",
    "    def accuracy(self, desc_set, label_set):\n",
    "        \"\"\" Permet de calculer la qualité du système sur un dataset donné\n",
    "            desc_set: ndarray avec des descriptions\n",
    "            label_set: ndarray avec les labels correspondants\n",
    "            Hypothèse: desc_set et label_set ont le même nombre de lignes\n",
    "        \"\"\"\n",
    "        if self.classifs[0].n_m == None:\n",
    "            self.classifs[0].nearest_matrix(desc_set, label_set)\n",
    "            for i in range(1, len(self.classifs)):\n",
    "                self.classifs[i].n_m = self.classifs[0].n_m\n",
    "        \n",
    "        sum = 0\n",
    "        for index in range(label_set.size):\n",
    "            if(self.predict(index) == label_set[index]):\n",
    "                sum += 1\n",
    "        return sum / label_set.size"
   ]
  },
  {
   "cell_type": "code",
   "execution_count": 13,
   "metadata": {},
   "outputs": [
    {
     "name": "stdout",
     "output_type": "stream",
     "text": [
      "0.9025\n"
     ]
    },
    {
     "data": {
      "image/png": "[encoded data removed]",
      "text/plain": [
       "<Figure size 432x288 with 1 Axes>"
      ]
     },
     "metadata": {
      "needs_background": "light"
     },
     "output_type": "display_data"
    }
   ],
   "source": [
    "k_init = 1\n",
    "k_final = 200\n",
    "pas = 1\n",
    "\n",
    "clissif_KNN = ClassifierKNN(len(train_desc[0]), 1)\n",
    "mooa_KNN = ClassifierMultiOAA_KNN(clissif_KNN)\n",
    "mooa_KNN.train(train_desc, train_label)\n",
    "\n",
    "perfs, k_list = [], []\n",
    "for k in range(k_init, k_final, pas):\n",
    "    mooa_KNN.setK(k)\n",
    "    perfs.append(mooa_KNN.accuracy(test_desc, test_label))\n",
    "    k_list.append(k)\n",
    "\n",
    "plt.plot(k_list, perfs)\n",
    "\n",
    "print(np.max(perfs))"
   ]
  },
  {
   "cell_type": "markdown",
   "metadata": {},
   "source": [
    "# Test sur perceptron"
   ]
  },
  {
   "cell_type": "code",
   "execution_count": 14,
   "metadata": {},
   "outputs": [],
   "source": [
    "class ClassifierMultiOAA(Classifier) : \n",
    "    def  __init__(self , classif) :\n",
    "        self.classif = classif \n",
    "        self.classifs = []\n",
    "\n",
    "    def train( self, desc_set , label_set, niter_max= 100, seuil = 0.0001) : \n",
    "        self.labels = np.unique(label_set)\n",
    "        \n",
    "        for lab in self.labels : \n",
    "            new_classif = copy.deepcopy(self.classif)\n",
    "            new_label_set = np.where(label_set == lab, 1 ,-1)\n",
    "            new_classif.train(desc_set, new_label_set, niter_max, seuil)\n",
    "            self.classifs.append(new_classif)\n",
    "            \n",
    "    def score(self, x):\n",
    "        return [c.score(x) for c in self.classifs]\n",
    "    \n",
    "    def predict(self , x) :\n",
    "        return self.labels[np.argmax(self.score(x))]"
   ]
  },
  {
   "cell_type": "code",
   "execution_count": 15,
   "metadata": {},
   "outputs": [],
   "source": [
    "# réduction à 50 dimensions\n",
    "ndim = 100\n",
    "lam, V = np.linalg.eigh(train_desc.T @ train_desc)\n",
    "lammax = np.argsort(lam)\n",
    "Vmax = V[:, [lammax[-i] for i in range(1, ndim+1)]]\n",
    "\n",
    "train_desc_r = train_desc @ Vmax\n",
    "test_desc_r = test_desc @ Vmax"
   ]
  },
  {
   "cell_type": "code",
   "execution_count": 16,
   "metadata": {},
   "outputs": [
    {
     "name": "stdout",
     "output_type": "stream",
     "text": [
      "0.837\n"
     ]
    }
   ],
   "source": [
    "classif_perceptron = ClassifierPerceptron(ndim, 1e-3)\n",
    "mooa_perceptron = ClassifierMultiOAA(classif_perceptron)\n",
    "mooa_perceptron.train(train_desc_r, train_label, niter_max=1000)\n",
    "\n",
    "print(mooa_perceptron.accuracy(test_desc_r, test_label))"
   ]
  },
  {
   "cell_type": "markdown",
   "metadata": {},
   "source": [
    "# CSV\n",
    "\n",
    "#### Nous avons obtenu un meilleur résultat avec le classifieur KNN pour la classifcation binaire avec k=4 avec une accuracy de 0.9025"
   ]
  },
  {
   "cell_type": "code",
   "execution_count": 18,
   "metadata": {},
   "outputs": [],
   "source": [
    "mooa_KNN.setK(4)\n",
    "\n",
    "for index in range(eval_label.size):\n",
    "    eval_label[index] = mooa_KNN.predict(index)\n",
    "    \n",
    "df = pd.DataFrame(eval['ident']).join(pd.DataFrame(eval_label))\n",
    "df = df.rename(columns={\"ident\":'IDENTIFIANT', 0:\"CLASSE_TROUVEE_POUR_CET_EXEMPLE\"})\n",
    "df.to_csv('./projet-1-WANG_LIN_MULTI.csv', sep=\";\", index=False)"
   ]
  }
 ],
 "metadata": {
  "kernelspec": {
   "display_name": "Python 3 (ipykernel)",
   "language": "python",
   "name": "python3"
  },
  "language_info": {
   "codemirror_mode": {
    "name": "ipython",
    "version": 3
   },
   "file_extension": ".py",
   "mimetype": "text/x-python",
   "name": "python",
   "nbconvert_exporter": "python",
   "pygments_lexer": "ipython3",
   "version": "3.10.0"
  }
 },
 "nbformat": 4,
 "nbformat_minor": 1
}
